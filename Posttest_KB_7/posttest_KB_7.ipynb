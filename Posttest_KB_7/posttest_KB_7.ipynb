{
 "cells": [
  {
   "cell_type": "markdown",
   "id": "fd89a8d3",
   "metadata": {},
   "source": [
    "# POSTTEST 7 KB\n",
    "## LIDYA SIMANUNGKALIT\n",
    "## 2009106125\n",
    "## KB C1 20\n",
    "\n",
    "\n",
    "# TENSORFLOW  BASIC"
   ]
  },
  {
   "cell_type": "code",
   "execution_count": 1,
   "id": "367005c1",
   "metadata": {},
   "outputs": [],
   "source": [
    "import pandas as pd\n",
    "import numpy as np  \n",
    "import matplotlib.pyplot as plt\n",
    "import tensorflow as tf"
   ]
  },
  {
   "cell_type": "markdown",
   "id": "55aedf1c",
   "metadata": {},
   "source": [
    "# 1. SHAPE (5,5) RANDOM"
   ]
  },
  {
   "cell_type": "code",
   "execution_count": 2,
   "id": "52b731b5",
   "metadata": {},
   "outputs": [
    {
     "data": {
      "text/plain": [
       "<tf.Tensor: shape=(5, 5), dtype=float32, numpy=\n",
       "array([[1.2230608 , 2.31855   , 2.957589  , 1.3531401 , 0.92784667],\n",
       "       [2.3567889 , 0.4127922 , 2.9725502 , 3.788623  , 1.8052181 ],\n",
       "       [3.19646   , 0.24205375, 2.7794914 , 2.911897  , 1.4793952 ],\n",
       "       [1.8638815 , 0.68177426, 0.31586993, 3.3206081 , 0.08094513],\n",
       "       [2.7847548 , 3.300223  , 1.5507061 , 0.53502357, 2.3440251 ]],\n",
       "      dtype=float32)>"
      ]
     },
     "execution_count": 2,
     "metadata": {},
     "output_type": "execute_result"
    }
   ],
   "source": [
    "random_tensor = tf.random.normal([5,5],mean=2)\n",
    "\n",
    "random_tensor"
   ]
  },
  {
   "cell_type": "markdown",
   "id": "2f200369",
   "metadata": {},
   "source": [
    "# 2. SHAPE (5,5) LIST BILANGAN PRIMA"
   ]
  },
  {
   "cell_type": "code",
   "execution_count": 5,
   "id": "49dcffb2",
   "metadata": {},
   "outputs": [
    {
     "name": "stdout",
     "output_type": "stream",
     "text": [
      "tf.Tensor(\n",
      "[[ 2.  3.  5.  7. 11.]\n",
      " [13. 17. 19. 23. 29.]\n",
      " [31. 37. 41. 43. 47.]\n",
      " [53. 59. 61. 67. 71.]\n",
      " [73. 79. 83. 89. 97.]], shape=(5, 5), dtype=float32)\n"
     ]
    }
   ],
   "source": [
    "prime_tensor=tf.constant ([[2,3,5,7,11],[13,17,19,23,29],[31,37,41,43,47],[53,59,61,67,71],[73,79,83,89,97]],dtype=tf.float32)\n",
    "\n",
    "print(prime_tensor)"
   ]
  },
  {
   "cell_type": "markdown",
   "id": "c9a1063d",
   "metadata": {},
   "source": [
    "# 3. MENAMPILKAN DIMENSI\n",
    "\n",
    "### VARIABEL RANDOM TENSOR"
   ]
  },
  {
   "cell_type": "code",
   "execution_count": 15,
   "id": "dc532414",
   "metadata": {},
   "outputs": [
    {
     "data": {
      "text/plain": [
       "TensorShape([5, 5])"
      ]
     },
     "execution_count": 15,
     "metadata": {},
     "output_type": "execute_result"
    }
   ],
   "source": [
    "\n",
    "random_tensor.get_shape()"
   ]
  },
  {
   "cell_type": "markdown",
   "id": "6cbb66fb",
   "metadata": {},
   "source": [
    "### VARIABEL PRIME_TENSOR"
   ]
  },
  {
   "cell_type": "code",
   "execution_count": 16,
   "id": "d71c3b42",
   "metadata": {},
   "outputs": [
    {
     "data": {
      "text/plain": [
       "array([5, 5])"
      ]
     },
     "execution_count": 16,
     "metadata": {},
     "output_type": "execute_result"
    }
   ],
   "source": [
    "tf.shape(prime_tensor).numpy()"
   ]
  },
  {
   "cell_type": "markdown",
   "id": "3f35f25a",
   "metadata": {},
   "source": [
    "# 4. PERHITUNGAN ARITMETIKA"
   ]
  },
  {
   "cell_type": "markdown",
   "id": "eedcd32c",
   "metadata": {},
   "source": [
    "## penjumlahan"
   ]
  },
  {
   "cell_type": "code",
   "execution_count": 17,
   "id": "9cff006e",
   "metadata": {},
   "outputs": [
    {
     "name": "stdout",
     "output_type": "stream",
     "text": [
      "tf.Tensor(\n",
      "[[ 3.2230608  5.31855    7.957589   8.35314   11.927847 ]\n",
      " [15.356789  17.412792  21.97255   26.788624  30.805218 ]\n",
      " [34.19646   37.242054  43.77949   45.911896  48.479397 ]\n",
      " [54.86388   59.681774  61.31587   70.32061   71.08095  ]\n",
      " [75.78475   82.300224  84.550705  89.53503   99.344025 ]], shape=(5, 5), dtype=float32)\n"
     ]
    }
   ],
   "source": [
    "print(tf.add(random_tensor, prime_tensor))"
   ]
  },
  {
   "cell_type": "markdown",
   "id": "d0384ac6",
   "metadata": {},
   "source": [
    "## pengurangan"
   ]
  },
  {
   "cell_type": "code",
   "execution_count": 18,
   "id": "9af18c46",
   "metadata": {},
   "outputs": [
    {
     "name": "stdout",
     "output_type": "stream",
     "text": [
      "tf.Tensor(\n",
      "[[ -0.77693915  -0.6814499   -2.042411    -5.64686    -10.072153  ]\n",
      " [-10.643211   -16.587208   -16.02745    -19.211376   -27.194782  ]\n",
      " [-27.80354    -36.757946   -38.22051    -40.088104   -45.520603  ]\n",
      " [-51.13612    -58.318226   -60.68413    -63.67939    -70.91905   ]\n",
      " [-70.21525    -75.699776   -81.449295   -88.46497    -94.655975  ]], shape=(5, 5), dtype=float32)\n"
     ]
    }
   ],
   "source": [
    "print(tf.subtract(random_tensor, prime_tensor))"
   ]
  },
  {
   "cell_type": "markdown",
   "id": "3b6149bc",
   "metadata": {},
   "source": [
    "## perkalian"
   ]
  },
  {
   "cell_type": "code",
   "execution_count": 19,
   "id": "1a7c9499",
   "metadata": {},
   "outputs": [
    {
     "name": "stdout",
     "output_type": "stream",
     "text": [
      "tf.Tensor(\n",
      "[[  2.4461217   6.9556503  14.787945    9.471981   10.206313 ]\n",
      " [ 30.638256    7.0174675  56.478455   87.13833    52.351326 ]\n",
      " [ 99.09026     8.955989  113.95915   125.21157    69.53157  ]\n",
      " [ 98.78572    40.22468    19.268066  222.48074     5.7471046]\n",
      " [203.2871    260.71762   128.7086     47.617096  227.37044  ]], shape=(5, 5), dtype=float32)\n"
     ]
    }
   ],
   "source": [
    "print(tf.multiply(random_tensor, prime_tensor))"
   ]
  },
  {
   "cell_type": "markdown",
   "id": "e307e654",
   "metadata": {},
   "source": [
    "## pembagian"
   ]
  },
  {
   "cell_type": "code",
   "execution_count": 20,
   "id": "297ec9fb",
   "metadata": {},
   "outputs": [
    {
     "name": "stdout",
     "output_type": "stream",
     "text": [
      "tf.Tensor(\n",
      "[[0.6115304  0.77285004 0.5915178  0.19330573 0.0843497 ]\n",
      " [0.18129145 0.02428189 0.15645    0.16472274 0.0622489 ]\n",
      " [0.10311161 0.00654199 0.06779248 0.06771854 0.03147649]\n",
      " [0.03516757 0.0115555  0.0051782  0.04956131 0.00114007]\n",
      " [0.03814733 0.04177498 0.01868321 0.0060115  0.02416521]], shape=(5, 5), dtype=float32)\n"
     ]
    }
   ],
   "source": [
    "print(tf.divide(random_tensor, prime_tensor))"
   ]
  },
  {
   "cell_type": "markdown",
   "id": "106933c6",
   "metadata": {},
   "source": [
    "## perpangkatan"
   ]
  },
  {
   "cell_type": "code",
   "execution_count": 21,
   "id": "9cd41f75",
   "metadata": {},
   "outputs": [
    {
     "name": "stdout",
     "output_type": "stream",
     "text": [
      "tf.Tensor(\n",
      "[[1.4958779e+00 1.2463771e+01 2.2630234e+02 8.3061428e+00 4.3877143e-01]\n",
      " [6.9210000e+04 2.9338324e-07 9.7601082e+08 2.0187022e+13 2.7501774e+07]\n",
      " [4.4131382e+15 1.6022748e-23 1.5943324e+18 9.1110415e+19 9.8618176e+07]\n",
      " [2.1486685e+14 1.5303663e-10 2.9512441e-31 8.3479734e+34 0.0000000e+00]\n",
      " [2.9474581e+32           inf 6.5155223e+15 6.6863550e-25 7.6973218e+35]], shape=(5, 5), dtype=float32)\n"
     ]
    }
   ],
   "source": [
    "print(tf.pow(random_tensor, prime_tensor))"
   ]
  },
  {
   "cell_type": "markdown",
   "id": "6c21db52",
   "metadata": {},
   "source": [
    "## logaritma"
   ]
  },
  {
   "cell_type": "code",
   "execution_count": 22,
   "id": "f28260d7",
   "metadata": {},
   "outputs": [
    {
     "name": "stdout",
     "output_type": "stream",
     "text": [
      "tf.Tensor(\n",
      "[[ 0.20135659  0.840942    1.0843744   0.3024279  -0.07488878]\n",
      " [ 0.85730004 -0.8848109   1.0894202   1.3320026   0.59068143]\n",
      " [ 1.1620439  -1.4185954   1.0222679   1.0688047   0.3916333 ]\n",
      " [ 0.6226611  -0.3830567  -1.1524248   1.200148   -2.5139837 ]\n",
      " [ 1.0241598   1.1939901   0.43871042 -0.6254445   0.8518696 ]], shape=(5, 5), dtype=float32)\n"
     ]
    }
   ],
   "source": [
    "print(tf.math.log(random_tensor, prime_tensor))"
   ]
  },
  {
   "cell_type": "markdown",
   "id": "2d539c00",
   "metadata": {},
   "source": [
    "# 6. NILAI MAX-MIN VARIABEL random_tensor"
   ]
  },
  {
   "cell_type": "markdown",
   "id": "3259ab30",
   "metadata": {},
   "source": [
    "## MAKSIMUM"
   ]
  },
  {
   "cell_type": "code",
   "execution_count": 25,
   "id": "dad09728",
   "metadata": {},
   "outputs": [
    {
     "name": "stdout",
     "output_type": "stream",
     "text": [
      "Nilai maximum berdasarkan kolom: [2 4 1 1 4]\n",
      "Nilai maximum berdasarkan baris: [2 3 0 3 1]\n"
     ]
    }
   ],
   "source": [
    "maxkolom = tf.argmax(random_tensor, axis=0)\n",
    "maxbaris = tf.argmax(random_tensor, axis=1)\n",
    "print(\"Nilai maximum berdasarkan kolom:\",maxkolom.numpy())\n",
    "print(\"Nilai maximum berdasarkan baris:\",maxbaris.numpy())"
   ]
  },
  {
   "cell_type": "markdown",
   "id": "dad968bf",
   "metadata": {},
   "source": [
    "## MINIMUM"
   ]
  },
  {
   "cell_type": "code",
   "execution_count": 26,
   "id": "f15a5415",
   "metadata": {},
   "outputs": [
    {
     "name": "stdout",
     "output_type": "stream",
     "text": [
      "Nilai minimum berdasarkan kolom: [0 2 3 4 3]\n",
      "Nilai minimum berdasarkan baris: [4 1 1 4 3]\n"
     ]
    }
   ],
   "source": [
    "minkolom = tf.argmin(random_tensor, axis=0)\n",
    "minbaris = tf.argmin(random_tensor, axis=1)\n",
    "print(\"Nilai minimum berdasarkan kolom:\",minkolom.numpy())\n",
    "print(\"Nilai minimum berdasarkan baris:\",minbaris.numpy())"
   ]
  },
  {
   "cell_type": "markdown",
   "id": "b1f421d9",
   "metadata": {},
   "source": [
    "# 7. PENGGABUNGAN random_tensor & prime_tensor MENGGUNAKAN\n",
    "#     CONCENATION\n"
   ]
  },
  {
   "cell_type": "code",
   "execution_count": 32,
   "id": "f855a48e",
   "metadata": {},
   "outputs": [
    {
     "name": "stdout",
     "output_type": "stream",
     "text": [
      "sizes of the original data: (5, 5) (5, 5)\n",
      "size  data yang sudah  concenation: (10, 5)\n"
     ]
    }
   ],
   "source": [
    "concat_rt = (random_tensor)\n",
    "concat_pt = (prime_tensor)\n",
    "print(\"sizes original data:\",concat_rt.shape,concat_pt.shape)\n",
    "concat_rt = tf.concat([concat_rt,concat_pt],axis=0)\n",
    "print(\"size  data yang sudah  concenation:\",concat_rt.shape)"
   ]
  },
  {
   "cell_type": "markdown",
   "id": "e2c1cda7",
   "metadata": {},
   "source": [
    "# 8. SORTING\n",
    "### random tensor"
   ]
  },
  {
   "cell_type": "code",
   "execution_count": 50,
   "id": "634ba2b6",
   "metadata": {},
   "outputs": [
    {
     "name": "stdout",
     "output_type": "stream",
     "text": [
      "urutan random_tensor  secara descending :\n",
      "tf.Tensor(\n",
      "[[2.957589   2.31855    1.3531401  1.2230608  0.92784667]\n",
      " [3.788623   2.9725502  2.3567889  1.8052181  0.4127922 ]\n",
      " [3.19646    2.911897   2.7794914  1.4793952  0.24205375]\n",
      " [3.3206081  1.8638815  0.68177426 0.31586993 0.08094513]\n",
      " [3.300223   2.7847548  2.3440251  1.5507061  0.53502357]], shape=(5, 5), dtype=float32)\n"
     ]
    }
   ],
   "source": [
    "sorting = tf.sort(random_tensor, direction=\"DESCENDING\")\n",
    "print('urutan random_tensor  secara descending :')\n",
    "print(sorting)\n"
   ]
  },
  {
   "cell_type": "markdown",
   "id": "ef1f661a",
   "metadata": {},
   "source": [
    "### prime_tensor"
   ]
  },
  {
   "cell_type": "code",
   "execution_count": 53,
   "id": "d7170d53",
   "metadata": {},
   "outputs": [
    {
     "name": "stdout",
     "output_type": "stream",
     "text": [
      "urutan prime_tensor  secara descending :\n",
      "tf.Tensor(\n",
      "[[11.  7.  5.  3.  2.]\n",
      " [29. 23. 19. 17. 13.]\n",
      " [47. 43. 41. 37. 31.]\n",
      " [71. 67. 61. 59. 53.]\n",
      " [97. 89. 83. 79. 73.]], shape=(5, 5), dtype=float32)\n"
     ]
    }
   ],
   "source": [
    "sorting = tf.sort(prime_tensor, direction=\"DESCENDING\")\n",
    "print('urutan prime_tensor  secara descending :')\n",
    "print(sorting)\n"
   ]
  },
  {
   "cell_type": "code",
   "execution_count": null,
   "id": "8a8896b9",
   "metadata": {},
   "outputs": [],
   "source": []
  },
  {
   "cell_type": "code",
   "execution_count": null,
   "id": "7b25d420",
   "metadata": {},
   "outputs": [],
   "source": []
  }
 ],
 "metadata": {
  "kernelspec": {
   "display_name": "Python 3 (ipykernel)",
   "language": "python",
   "name": "python3"
  },
  "language_info": {
   "codemirror_mode": {
    "name": "ipython",
    "version": 3
   },
   "file_extension": ".py",
   "mimetype": "text/x-python",
   "name": "python",
   "nbconvert_exporter": "python",
   "pygments_lexer": "ipython3",
   "version": "3.10.7"
  }
 },
 "nbformat": 4,
 "nbformat_minor": 5
}
