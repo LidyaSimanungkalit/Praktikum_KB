{
 "cells": [
  {
   "cell_type": "markdown",
   "id": "f30fbed2-71d8-4024-99d2-afb7c8ce1d65",
   "metadata": {},
   "source": [
    "# POSTEST 2 DATASET\n",
    "\n",
    "\n",
    "Lidya Simanungkalit\n",
    "\n",
    "2009106125\n",
    "\n",
    "\n",
    "Kecerdasan Buatan C1 20\n",
    "\n"
   ]
  },
  {
   "cell_type": "markdown",
   "id": "107fb19c-9729-4a58-a561-bc27389e0e17",
   "metadata": {},
   "source": [
    "# Import Library"
   ]
  },
  {
   "cell_type": "code",
   "execution_count": 62,
   "id": "f0c2cdb8-46dc-4c18-a32c-6721c2d55581",
   "metadata": {},
   "outputs": [],
   "source": [
    "import numpy as np\n",
    "import pandas as pd\n",
    "from tabulate import tabulate"
   ]
  },
  {
   "cell_type": "markdown",
   "id": "4a50aa53-2813-489e-8b4f-8adf03e55a2d",
   "metadata": {},
   "source": [
    "# Menampilkan Data Set"
   ]
  },
  {
   "cell_type": "code",
   "execution_count": 63,
   "id": "a34ac1fd-7d60-48a9-856b-84b1051fc43d",
   "metadata": {},
   "outputs": [
    {
     "data": {
      "text/html": [
       "<div>\n",
       "<style scoped>\n",
       "    .dataframe tbody tr th:only-of-type {\n",
       "        vertical-align: middle;\n",
       "    }\n",
       "\n",
       "    .dataframe tbody tr th {\n",
       "        vertical-align: top;\n",
       "    }\n",
       "\n",
       "    .dataframe thead th {\n",
       "        text-align: right;\n",
       "    }\n",
       "</style>\n",
       "<table border=\"1\" class=\"dataframe\">\n",
       "  <thead>\n",
       "    <tr style=\"text-align: right;\">\n",
       "      <th></th>\n",
       "      <th>Unnamed: 0</th>\n",
       "      <th>UID</th>\n",
       "      <th>code3</th>\n",
       "      <th>FIPS</th>\n",
       "      <th>Lat</th>\n",
       "      <th>Long_</th>\n",
       "      <th>Confirmed</th>\n",
       "      <th>Deaths</th>\n",
       "    </tr>\n",
       "  </thead>\n",
       "  <tbody>\n",
       "    <tr>\n",
       "      <th>0</th>\n",
       "      <td>0</td>\n",
       "      <td>16</td>\n",
       "      <td>16</td>\n",
       "      <td>60.0</td>\n",
       "      <td>-14.271000</td>\n",
       "      <td>-170.132000</td>\n",
       "      <td>0</td>\n",
       "      <td>0</td>\n",
       "    </tr>\n",
       "    <tr>\n",
       "      <th>1</th>\n",
       "      <td>1</td>\n",
       "      <td>316</td>\n",
       "      <td>316</td>\n",
       "      <td>66.0</td>\n",
       "      <td>13.444300</td>\n",
       "      <td>144.793700</td>\n",
       "      <td>0</td>\n",
       "      <td>0</td>\n",
       "    </tr>\n",
       "    <tr>\n",
       "      <th>2</th>\n",
       "      <td>2</td>\n",
       "      <td>580</td>\n",
       "      <td>580</td>\n",
       "      <td>69.0</td>\n",
       "      <td>15.097900</td>\n",
       "      <td>145.673900</td>\n",
       "      <td>0</td>\n",
       "      <td>0</td>\n",
       "    </tr>\n",
       "    <tr>\n",
       "      <th>3</th>\n",
       "      <td>3</td>\n",
       "      <td>63072001</td>\n",
       "      <td>630</td>\n",
       "      <td>72001.0</td>\n",
       "      <td>18.180117</td>\n",
       "      <td>-66.754367</td>\n",
       "      <td>0</td>\n",
       "      <td>0</td>\n",
       "    </tr>\n",
       "    <tr>\n",
       "      <th>4</th>\n",
       "      <td>4</td>\n",
       "      <td>63072003</td>\n",
       "      <td>630</td>\n",
       "      <td>72003.0</td>\n",
       "      <td>18.360255</td>\n",
       "      <td>-67.175131</td>\n",
       "      <td>0</td>\n",
       "      <td>0</td>\n",
       "    </tr>\n",
       "    <tr>\n",
       "      <th>...</th>\n",
       "      <td>...</td>\n",
       "      <td>...</td>\n",
       "      <td>...</td>\n",
       "      <td>...</td>\n",
       "      <td>...</td>\n",
       "      <td>...</td>\n",
       "      <td>...</td>\n",
       "      <td>...</td>\n",
       "    </tr>\n",
       "    <tr>\n",
       "      <th>627915</th>\n",
       "      <td>627915</td>\n",
       "      <td>84070016</td>\n",
       "      <td>840</td>\n",
       "      <td>NaN</td>\n",
       "      <td>39.372319</td>\n",
       "      <td>-111.575868</td>\n",
       "      <td>347</td>\n",
       "      <td>1</td>\n",
       "    </tr>\n",
       "    <tr>\n",
       "      <th>627916</th>\n",
       "      <td>627916</td>\n",
       "      <td>84070017</td>\n",
       "      <td>840</td>\n",
       "      <td>NaN</td>\n",
       "      <td>38.996171</td>\n",
       "      <td>-110.701396</td>\n",
       "      <td>70</td>\n",
       "      <td>0</td>\n",
       "    </tr>\n",
       "    <tr>\n",
       "      <th>627917</th>\n",
       "      <td>627917</td>\n",
       "      <td>84070018</td>\n",
       "      <td>840</td>\n",
       "      <td>NaN</td>\n",
       "      <td>37.854472</td>\n",
       "      <td>-111.441876</td>\n",
       "      <td>2781</td>\n",
       "      <td>23</td>\n",
       "    </tr>\n",
       "    <tr>\n",
       "      <th>627918</th>\n",
       "      <td>627918</td>\n",
       "      <td>84070019</td>\n",
       "      <td>840</td>\n",
       "      <td>NaN</td>\n",
       "      <td>40.124915</td>\n",
       "      <td>-109.517442</td>\n",
       "      <td>142</td>\n",
       "      <td>0</td>\n",
       "    </tr>\n",
       "    <tr>\n",
       "      <th>627919</th>\n",
       "      <td>627919</td>\n",
       "      <td>84070020</td>\n",
       "      <td>840</td>\n",
       "      <td>NaN</td>\n",
       "      <td>41.271160</td>\n",
       "      <td>-111.914512</td>\n",
       "      <td>2375</td>\n",
       "      <td>24</td>\n",
       "    </tr>\n",
       "  </tbody>\n",
       "</table>\n",
       "<p>627920 rows × 8 columns</p>\n",
       "</div>"
      ],
      "text/plain": [
       "        Unnamed: 0       UID  code3     FIPS        Lat       Long_  \\\n",
       "0                0        16     16     60.0 -14.271000 -170.132000   \n",
       "1                1       316    316     66.0  13.444300  144.793700   \n",
       "2                2       580    580     69.0  15.097900  145.673900   \n",
       "3                3  63072001    630  72001.0  18.180117  -66.754367   \n",
       "4                4  63072003    630  72003.0  18.360255  -67.175131   \n",
       "...            ...       ...    ...      ...        ...         ...   \n",
       "627915      627915  84070016    840      NaN  39.372319 -111.575868   \n",
       "627916      627916  84070017    840      NaN  38.996171 -110.701396   \n",
       "627917      627917  84070018    840      NaN  37.854472 -111.441876   \n",
       "627918      627918  84070019    840      NaN  40.124915 -109.517442   \n",
       "627919      627919  84070020    840      NaN  41.271160 -111.914512   \n",
       "\n",
       "        Confirmed  Deaths  \n",
       "0               0       0  \n",
       "1               0       0  \n",
       "2               0       0  \n",
       "3               0       0  \n",
       "4               0       0  \n",
       "...           ...     ...  \n",
       "627915        347       1  \n",
       "627916         70       0  \n",
       "627917       2781      23  \n",
       "627918        142       0  \n",
       "627919       2375      24  \n",
       "\n",
       "[627920 rows x 8 columns]"
      ]
     },
     "execution_count": 63,
     "metadata": {},
     "output_type": "execute_result"
    }
   ],
   "source": [
    "dataset = pd.read_csv('usa_county_wise.csv')\n",
    "dataset"
   ]
  },
  {
   "cell_type": "markdown",
   "id": "3e358429-b1c9-4395-a52a-bc88e05caa4e",
   "metadata": {},
   "source": [
    "# informasi Data Set\n"
   ]
  },
  {
   "cell_type": "code",
   "execution_count": 64,
   "id": "eaa23f8f-63f7-471c-aea3-48b449835680",
   "metadata": {},
   "outputs": [
    {
     "name": "stdout",
     "output_type": "stream",
     "text": [
      "<class 'pandas.core.frame.DataFrame'>\n",
      "RangeIndex: 627920 entries, 0 to 627919\n",
      "Data columns (total 8 columns):\n",
      " #   Column      Non-Null Count   Dtype  \n",
      "---  ------      --------------   -----  \n",
      " 0   Unnamed: 0  627920 non-null  int64  \n",
      " 1   UID         627920 non-null  int64  \n",
      " 2   code3       627920 non-null  int64  \n",
      " 3   FIPS        626040 non-null  float64\n",
      " 4   Lat         627920 non-null  float64\n",
      " 5   Long_       627920 non-null  float64\n",
      " 6   Confirmed   627920 non-null  int64  \n",
      " 7   Deaths      627920 non-null  int64  \n",
      "dtypes: float64(3), int64(5)\n",
      "memory usage: 38.3 MB\n"
     ]
    }
   ],
   "source": [
    "dataset.info()"
   ]
  },
  {
   "cell_type": "markdown",
   "id": "53ec8b24-7ae0-4d41-a3a8-e6ec4773bc6b",
   "metadata": {},
   "source": [
    "# MENAMPILKAN JUMLAH RECORD"
   ]
  },
  {
   "cell_type": "code",
   "execution_count": 65,
   "id": "32d2a6ba-4be3-47e0-8506-3142b1063920",
   "metadata": {},
   "outputs": [
    {
     "name": "stdout",
     "output_type": "stream",
     "text": [
      "jumlah recordnya yaitu 627920\n"
     ]
    }
   ],
   "source": [
    "jumlah_record = len(dataset.index)\n",
    "print (\"jumlah recordnya yaitu\", jumlah_record)"
   ]
  },
  {
   "cell_type": "markdown",
   "id": "844062cf-2b44-47cc-a48b-36052d0bd504",
   "metadata": {},
   "source": [
    "# MENAMPILKAN NAMA ATRIBUTE"
   ]
  },
  {
   "cell_type": "code",
   "execution_count": 66,
   "id": "23c4a955-f280-458e-a5a5-f0c5b12fe6a0",
   "metadata": {},
   "outputs": [
    {
     "name": "stdout",
     "output_type": "stream",
     "text": [
      "Nama-Nama Atributnya : \n",
      " Unnamed: 0\n",
      "UID\n",
      "code3\n",
      "FIPS\n",
      "Lat\n",
      "Long_\n",
      "Confirmed\n",
      "Deaths\n"
     ]
    }
   ],
   "source": [
    "data_atribut = list(dataset.columns)\n",
    "nama_atribut = \"\\n\".join(data_atribut)\n",
    "print (\"Nama-Nama Atributnya : \\n\", nama_atribut)"
   ]
  },
  {
   "cell_type": "markdown",
   "id": "643fd5c1-96c3-40f8-992e-3a4c8806a4f5",
   "metadata": {},
   "source": [
    "# MENAMPILKAN JUMLAH ATRIBUT"
   ]
  },
  {
   "cell_type": "code",
   "execution_count": 67,
   "id": "78b44873-886f-4360-9900-a87c57f543fb",
   "metadata": {},
   "outputs": [
    {
     "name": "stdout",
     "output_type": "stream",
     "text": [
      "JUMLAH ATRIBUTNYA 8\n"
     ]
    }
   ],
   "source": [
    "jmlh_atribut = dataset.shape[1]\n",
    "print(\"JUMLAH ATRIBUTNYA\", jmlh_atribut)"
   ]
  },
  {
   "cell_type": "markdown",
   "id": "213badf0-7310-4e0e-9565-484e298cd697",
   "metadata": {},
   "source": [
    "# MENAMPILKAN ATRIBUTE DENGAN TYPE OBJEK"
   ]
  },
  {
   "cell_type": "code",
   "execution_count": 68,
   "id": "8cc9d782-37f8-465e-a90b-2dcdc310e8ef",
   "metadata": {},
   "outputs": [
    {
     "name": "stdout",
     "output_type": "stream",
     "text": [
      "JUMLAH ATRIBUTE DENGAN TYPE OBJEK ADALAH :  0\n"
     ]
    }
   ],
   "source": [
    "type_objek = len(dataset.dtypes[dataset.dtypes == \"object\"])\n",
    "print (\"JUMLAH ATRIBUTE DENGAN TYPE OBJEK ADALAH : \",type_objek)"
   ]
  },
  {
   "cell_type": "markdown",
   "id": "d22ca7d9-7146-49e6-a933-54d19537aacb",
   "metadata": {},
   "source": [
    "# MENAMPILKAN ATRIBUTE DENGAN TYPE ANGKA"
   ]
  },
  {
   "cell_type": "code",
   "execution_count": 69,
   "id": "81a301dc-77bd-4de6-8d5e-04e90e3d5312",
   "metadata": {},
   "outputs": [
    {
     "name": "stdout",
     "output_type": "stream",
     "text": [
      "JUMLAH ATRIBUT DENGAN TYPE ANGKA ADALAH: 8\n"
     ]
    }
   ],
   "source": [
    "Int = len(dataset.dtypes[dataset.dtypes == 'int64'])\n",
    "Float = len(dataset.dtypes[dataset.dtypes == 'float64'])\n",
    "type_angka = Int + Float\n",
    "print (\"JUMLAH ATRIBUT DENGAN TYPE ANGKA ADALAH:\", type_angka)"
   ]
  },
  {
   "cell_type": "markdown",
   "id": "e9513669-fcfa-4370-a057-af37cffaae26",
   "metadata": {},
   "source": [
    "# JUMLAH ATRIBUT YANG MEMILIKI NILAI NULL"
   ]
  },
  {
   "cell_type": "code",
   "execution_count": 70,
   "id": "0cafad8c-be30-4fc9-b123-5b490d99461c",
   "metadata": {},
   "outputs": [
    {
     "name": "stdout",
     "output_type": "stream",
     "text": [
      "JUMLAH ATRIBUTE YANG MEMILIKI NILAI NULL ADALAH:  1\n"
     ]
    }
   ],
   "source": [
    "Null = dataset.isnull().any().sum()\n",
    "print (\"JUMLAH ATRIBUTE YANG MEMILIKI NILAI NULL ADALAH: \", Null)"
   ]
  },
  {
   "cell_type": "markdown",
   "id": "d5e910a6-963c-4b07-9a04-f211e67e2f12",
   "metadata": {},
   "source": [
    "# MENAMPILKAN DALAM DICTIONARY"
   ]
  },
  {
   "cell_type": "code",
   "execution_count": 71,
   "id": "759f4620-7c7e-4c6d-a38a-ae2cb7d7a2bb",
   "metadata": {},
   "outputs": [
    {
     "name": "stdout",
     "output_type": "stream",
     "text": [
      "+------------------+----------------+-----------------+----------------------+----------------------+-----------------------+\n",
      "|   Jumlah record  |   Jumlah kolom | Nama atribute   |   Atribut type objek |   Atribut type angka |   Atribut nilai NULL  |\n",
      "|------------------+----------------+-----------------+----------------------+----------------------+-----------------------|\n",
      "|           627920 |              8 | Unnamed: 0      |                    0 |                    8 |                     1 |\n",
      "|                  |                | UID             |                      |                      |                       |\n",
      "|                  |                | code3           |                      |                      |                       |\n",
      "|                  |                | FIPS            |                      |                      |                       |\n",
      "|                  |                | Lat             |                      |                      |                       |\n",
      "|                  |                | Long_           |                      |                      |                       |\n",
      "|                  |                | Confirmed       |                      |                      |                       |\n",
      "|                  |                | Deaths          |                      |                      |                       |\n",
      "+------------------+----------------+-----------------+----------------------+----------------------+-----------------------+\n"
     ]
    }
   ],
   "source": [
    "Dict ={\n",
    "    \"Jumlah record \" : [jumlah_record],\n",
    "    \"Jumlah kolom\" : [jmlh_atribut],\n",
    "    \"Nama atribute\" : [ nama_atribut],\n",
    "    \"Atribut type objek\" : [type_objek],\n",
    "    \"Atribut type angka\" : [type_angka],\n",
    "    \"Atribut nilai NULL \" : [Null]}\n",
    "tabel = pd.DataFrame(Dict)\n",
    "print(tabulate(tabel, headers ='keys', tablefmt ='psql', showindex =False))"
   ]
  },
  {
   "cell_type": "markdown",
   "id": "c1526d24-dfee-4753-8f97-3271f42f85e6",
   "metadata": {},
   "source": [
    "# Menampilkan Rata-Rata, Standar Deviasi, Nilai Minimum,Nilai Maksimum, Q1,Q2, dan Q3 dari Atribute bertype Angka"
   ]
  },
  {
   "cell_type": "code",
   "execution_count": 72,
   "id": "d44d25fc-88a4-4516-9aec-7d225d7c63d6",
   "metadata": {},
   "outputs": [
    {
     "data": {
      "text/html": [
       "<div>\n",
       "<style scoped>\n",
       "    .dataframe tbody tr th:only-of-type {\n",
       "        vertical-align: middle;\n",
       "    }\n",
       "\n",
       "    .dataframe tbody tr th {\n",
       "        vertical-align: top;\n",
       "    }\n",
       "\n",
       "    .dataframe thead th {\n",
       "        text-align: right;\n",
       "    }\n",
       "</style>\n",
       "<table border=\"1\" class=\"dataframe\">\n",
       "  <thead>\n",
       "    <tr style=\"text-align: right;\">\n",
       "      <th></th>\n",
       "      <th>Unnamed: 0</th>\n",
       "      <th>UID</th>\n",
       "      <th>code3</th>\n",
       "      <th>FIPS</th>\n",
       "      <th>Lat</th>\n",
       "      <th>Long_</th>\n",
       "      <th>Confirmed</th>\n",
       "      <th>Deaths</th>\n",
       "    </tr>\n",
       "  </thead>\n",
       "  <tbody>\n",
       "    <tr>\n",
       "      <th>jumlah data</th>\n",
       "      <td>627920.000000</td>\n",
       "      <td>6.279200e+05</td>\n",
       "      <td>627920.000000</td>\n",
       "      <td>626040.000000</td>\n",
       "      <td>627920.000000</td>\n",
       "      <td>627920.000000</td>\n",
       "      <td>627920.000000</td>\n",
       "      <td>627920.000000</td>\n",
       "    </tr>\n",
       "    <tr>\n",
       "      <th>mean</th>\n",
       "      <td>313959.500000</td>\n",
       "      <td>8.342958e+07</td>\n",
       "      <td>834.491617</td>\n",
       "      <td>33061.684685</td>\n",
       "      <td>36.707212</td>\n",
       "      <td>-88.601474</td>\n",
       "      <td>357.284285</td>\n",
       "      <td>17.536328</td>\n",
       "    </tr>\n",
       "    <tr>\n",
       "      <th>Standar Deviasi</th>\n",
       "      <td>181265.034852</td>\n",
       "      <td>4.314702e+06</td>\n",
       "      <td>36.492620</td>\n",
       "      <td>18636.156825</td>\n",
       "      <td>9.061572</td>\n",
       "      <td>21.715747</td>\n",
       "      <td>3487.282694</td>\n",
       "      <td>300.991466</td>\n",
       "    </tr>\n",
       "    <tr>\n",
       "      <th>Nilai Minimum</th>\n",
       "      <td>0.000000</td>\n",
       "      <td>1.600000e+01</td>\n",
       "      <td>16.000000</td>\n",
       "      <td>60.000000</td>\n",
       "      <td>-14.271000</td>\n",
       "      <td>-174.159600</td>\n",
       "      <td>0.000000</td>\n",
       "      <td>0.000000</td>\n",
       "    </tr>\n",
       "    <tr>\n",
       "      <th>Q1</th>\n",
       "      <td>156979.750000</td>\n",
       "      <td>8.401811e+07</td>\n",
       "      <td>840.000000</td>\n",
       "      <td>19079.000000</td>\n",
       "      <td>33.895587</td>\n",
       "      <td>-97.790204</td>\n",
       "      <td>0.000000</td>\n",
       "      <td>0.000000</td>\n",
       "    </tr>\n",
       "    <tr>\n",
       "      <th>Q2</th>\n",
       "      <td>313959.500000</td>\n",
       "      <td>8.402921e+07</td>\n",
       "      <td>840.000000</td>\n",
       "      <td>31014.000000</td>\n",
       "      <td>38.002344</td>\n",
       "      <td>-89.486710</td>\n",
       "      <td>4.000000</td>\n",
       "      <td>0.000000</td>\n",
       "    </tr>\n",
       "    <tr>\n",
       "      <th>Q3</th>\n",
       "      <td>470939.250000</td>\n",
       "      <td>8.404612e+07</td>\n",
       "      <td>840.000000</td>\n",
       "      <td>47131.000000</td>\n",
       "      <td>41.573069</td>\n",
       "      <td>-82.311265</td>\n",
       "      <td>63.000000</td>\n",
       "      <td>1.000000</td>\n",
       "    </tr>\n",
       "    <tr>\n",
       "      <th>Nilai Maksimal</th>\n",
       "      <td>627919.000000</td>\n",
       "      <td>8.410000e+07</td>\n",
       "      <td>850.000000</td>\n",
       "      <td>99999.000000</td>\n",
       "      <td>69.314792</td>\n",
       "      <td>145.673900</td>\n",
       "      <td>224051.000000</td>\n",
       "      <td>23500.000000</td>\n",
       "    </tr>\n",
       "  </tbody>\n",
       "</table>\n",
       "</div>"
      ],
      "text/plain": [
       "                    Unnamed: 0           UID          code3           FIPS  \\\n",
       "jumlah data      627920.000000  6.279200e+05  627920.000000  626040.000000   \n",
       "mean             313959.500000  8.342958e+07     834.491617   33061.684685   \n",
       "Standar Deviasi  181265.034852  4.314702e+06      36.492620   18636.156825   \n",
       "Nilai Minimum         0.000000  1.600000e+01      16.000000      60.000000   \n",
       "Q1               156979.750000  8.401811e+07     840.000000   19079.000000   \n",
       "Q2               313959.500000  8.402921e+07     840.000000   31014.000000   \n",
       "Q3               470939.250000  8.404612e+07     840.000000   47131.000000   \n",
       "Nilai Maksimal   627919.000000  8.410000e+07     850.000000   99999.000000   \n",
       "\n",
       "                           Lat          Long_      Confirmed         Deaths  \n",
       "jumlah data      627920.000000  627920.000000  627920.000000  627920.000000  \n",
       "mean                 36.707212     -88.601474     357.284285      17.536328  \n",
       "Standar Deviasi       9.061572      21.715747    3487.282694     300.991466  \n",
       "Nilai Minimum       -14.271000    -174.159600       0.000000       0.000000  \n",
       "Q1                   33.895587     -97.790204       0.000000       0.000000  \n",
       "Q2                   38.002344     -89.486710       4.000000       0.000000  \n",
       "Q3                   41.573069     -82.311265      63.000000       1.000000  \n",
       "Nilai Maksimal       69.314792     145.673900  224051.000000   23500.000000  "
      ]
     },
     "execution_count": 72,
     "metadata": {},
     "output_type": "execute_result"
    }
   ],
   "source": [
    "desc = dataset.describe()\n",
    "desc.rename(index= {\"count\": \"jumlah data\",\"Mean\" :\"Rata-Rat\", \"std\":\"Standar Deviasi\",\"min\" : \"Nilai Minimum\",\n",
    "                    \"25%\": \"Q1\",\"50%\": \"Q2\", \"75%\": \"Q3\",\"max\" : \"Nilai Maksimal\"},inplace = True)\n",
    "desc"
   ]
  },
  {
   "cell_type": "markdown",
   "id": "b19c4ec7-e445-4306-a9c4-0fc61b80afba",
   "metadata": {},
   "source": [
    "# MENAMPILKAN  NILAI KOLERASI"
   ]
  },
  {
   "cell_type": "code",
   "execution_count": 73,
   "id": "e57690ba-1dd2-4694-99cb-f9c6e3925bb7",
   "metadata": {},
   "outputs": [
    {
     "data": {
      "text/html": [
       "<div>\n",
       "<style scoped>\n",
       "    .dataframe tbody tr th:only-of-type {\n",
       "        vertical-align: middle;\n",
       "    }\n",
       "\n",
       "    .dataframe tbody tr th {\n",
       "        vertical-align: top;\n",
       "    }\n",
       "\n",
       "    .dataframe thead th {\n",
       "        text-align: right;\n",
       "    }\n",
       "</style>\n",
       "<table border=\"1\" class=\"dataframe\">\n",
       "  <thead>\n",
       "    <tr style=\"text-align: right;\">\n",
       "      <th></th>\n",
       "      <th>Unnamed: 0</th>\n",
       "      <th>UID</th>\n",
       "      <th>code3</th>\n",
       "      <th>FIPS</th>\n",
       "      <th>Lat</th>\n",
       "      <th>Long_</th>\n",
       "      <th>Confirmed</th>\n",
       "      <th>Deaths</th>\n",
       "    </tr>\n",
       "  </thead>\n",
       "  <tbody>\n",
       "    <tr>\n",
       "      <th>Unnamed: 0</th>\n",
       "      <td>1.000000</td>\n",
       "      <td>0.001225</td>\n",
       "      <td>0.001297</td>\n",
       "      <td>0.004205</td>\n",
       "      <td>-0.000527</td>\n",
       "      <td>0.001184</td>\n",
       "      <td>0.100452</td>\n",
       "      <td>0.052653</td>\n",
       "    </tr>\n",
       "    <tr>\n",
       "      <th>UID</th>\n",
       "      <td>0.001225</td>\n",
       "      <td>1.000000</td>\n",
       "      <td>0.903836</td>\n",
       "      <td>-0.198912</td>\n",
       "      <td>0.314965</td>\n",
       "      <td>-0.235989</td>\n",
       "      <td>0.012601</td>\n",
       "      <td>0.007961</td>\n",
       "    </tr>\n",
       "    <tr>\n",
       "      <th>code3</th>\n",
       "      <td>0.001297</td>\n",
       "      <td>0.903836</td>\n",
       "      <td>1.000000</td>\n",
       "      <td>-0.265912</td>\n",
       "      <td>0.341832</td>\n",
       "      <td>-0.195156</td>\n",
       "      <td>0.013792</td>\n",
       "      <td>0.008742</td>\n",
       "    </tr>\n",
       "    <tr>\n",
       "      <th>FIPS</th>\n",
       "      <td>0.004205</td>\n",
       "      <td>-0.198912</td>\n",
       "      <td>-0.265912</td>\n",
       "      <td>1.000000</td>\n",
       "      <td>-0.453129</td>\n",
       "      <td>0.483018</td>\n",
       "      <td>-0.026350</td>\n",
       "      <td>-0.010410</td>\n",
       "    </tr>\n",
       "    <tr>\n",
       "      <th>Lat</th>\n",
       "      <td>-0.000527</td>\n",
       "      <td>0.314965</td>\n",
       "      <td>0.341832</td>\n",
       "      <td>-0.453129</td>\n",
       "      <td>1.000000</td>\n",
       "      <td>-0.721129</td>\n",
       "      <td>0.010885</td>\n",
       "      <td>0.013868</td>\n",
       "    </tr>\n",
       "    <tr>\n",
       "      <th>Long_</th>\n",
       "      <td>0.001184</td>\n",
       "      <td>-0.235989</td>\n",
       "      <td>-0.195156</td>\n",
       "      <td>0.483018</td>\n",
       "      <td>-0.721129</td>\n",
       "      <td>1.000000</td>\n",
       "      <td>0.013257</td>\n",
       "      <td>0.021035</td>\n",
       "    </tr>\n",
       "    <tr>\n",
       "      <th>Confirmed</th>\n",
       "      <td>0.100452</td>\n",
       "      <td>0.012601</td>\n",
       "      <td>0.013792</td>\n",
       "      <td>-0.026350</td>\n",
       "      <td>0.010885</td>\n",
       "      <td>0.013257</td>\n",
       "      <td>1.000000</td>\n",
       "      <td>0.898629</td>\n",
       "    </tr>\n",
       "    <tr>\n",
       "      <th>Deaths</th>\n",
       "      <td>0.052653</td>\n",
       "      <td>0.007961</td>\n",
       "      <td>0.008742</td>\n",
       "      <td>-0.010410</td>\n",
       "      <td>0.013868</td>\n",
       "      <td>0.021035</td>\n",
       "      <td>0.898629</td>\n",
       "      <td>1.000000</td>\n",
       "    </tr>\n",
       "  </tbody>\n",
       "</table>\n",
       "</div>"
      ],
      "text/plain": [
       "            Unnamed: 0       UID     code3      FIPS       Lat     Long_  \\\n",
       "Unnamed: 0    1.000000  0.001225  0.001297  0.004205 -0.000527  0.001184   \n",
       "UID           0.001225  1.000000  0.903836 -0.198912  0.314965 -0.235989   \n",
       "code3         0.001297  0.903836  1.000000 -0.265912  0.341832 -0.195156   \n",
       "FIPS          0.004205 -0.198912 -0.265912  1.000000 -0.453129  0.483018   \n",
       "Lat          -0.000527  0.314965  0.341832 -0.453129  1.000000 -0.721129   \n",
       "Long_         0.001184 -0.235989 -0.195156  0.483018 -0.721129  1.000000   \n",
       "Confirmed     0.100452  0.012601  0.013792 -0.026350  0.010885  0.013257   \n",
       "Deaths        0.052653  0.007961  0.008742 -0.010410  0.013868  0.021035   \n",
       "\n",
       "            Confirmed    Deaths  \n",
       "Unnamed: 0   0.100452  0.052653  \n",
       "UID          0.012601  0.007961  \n",
       "code3        0.013792  0.008742  \n",
       "FIPS        -0.026350 -0.010410  \n",
       "Lat          0.010885  0.013868  \n",
       "Long_        0.013257  0.021035  \n",
       "Confirmed    1.000000  0.898629  \n",
       "Deaths       0.898629  1.000000  "
      ]
     },
     "execution_count": 73,
     "metadata": {},
     "output_type": "execute_result"
    }
   ],
   "source": [
    "dataset.corr()"
   ]
  },
  {
   "cell_type": "markdown",
   "id": "adea05d1-ee39-4c61-9b47-d940c7e9dbae",
   "metadata": {},
   "source": [
    "# MENGUBAH ATRIBUTE BERTIPE ANGKA MENJADI DESIMAL 3 ANGKA DI BELAKANG KOMA"
   ]
  },
  {
   "cell_type": "code",
   "execution_count": 74,
   "id": "bb1dac2c-6c76-455e-8bfb-4ddf59403b05",
   "metadata": {},
   "outputs": [
    {
     "data": {
      "text/plain": [
       "0         0.000\n",
       "1         0.000\n",
       "2         0.000\n",
       "3         0.000\n",
       "4         0.000\n",
       "          ...  \n",
       "627915    0.001\n",
       "627916    0.000\n",
       "627917    0.023\n",
       "627918    0.000\n",
       "627919    0.024\n",
       "Name: Deaths, Length: 627920, dtype: float64"
      ]
     },
     "execution_count": 74,
     "metadata": {},
     "output_type": "execute_result"
    }
   ],
   "source": [
    "dataset['Deaths']*0.001"
   ]
  },
  {
   "cell_type": "markdown",
   "id": "0b06f02f-267c-4e06-b8ae-5024d2e62b96",
   "metadata": {},
   "source": [
    "# MENAMPILKAN 10 RECORD PERTAMA DARI ATRIBUTE BERTIPE ANGKA"
   ]
  },
  {
   "cell_type": "code",
   "execution_count": 75,
   "id": "9a3702a9-1aeb-4d5c-8096-e3bfcaa71789",
   "metadata": {},
   "outputs": [
    {
     "data": {
      "text/html": [
       "<div>\n",
       "<style scoped>\n",
       "    .dataframe tbody tr th:only-of-type {\n",
       "        vertical-align: middle;\n",
       "    }\n",
       "\n",
       "    .dataframe tbody tr th {\n",
       "        vertical-align: top;\n",
       "    }\n",
       "\n",
       "    .dataframe thead th {\n",
       "        text-align: right;\n",
       "    }\n",
       "</style>\n",
       "<table border=\"1\" class=\"dataframe\">\n",
       "  <thead>\n",
       "    <tr style=\"text-align: right;\">\n",
       "      <th></th>\n",
       "      <th>Unnamed: 0</th>\n",
       "      <th>UID</th>\n",
       "      <th>code3</th>\n",
       "      <th>FIPS</th>\n",
       "      <th>Lat</th>\n",
       "      <th>Long_</th>\n",
       "      <th>Confirmed</th>\n",
       "      <th>Deaths</th>\n",
       "    </tr>\n",
       "  </thead>\n",
       "  <tbody>\n",
       "    <tr>\n",
       "      <th>0</th>\n",
       "      <td>0</td>\n",
       "      <td>16</td>\n",
       "      <td>16</td>\n",
       "      <td>60.0</td>\n",
       "      <td>-14.271000</td>\n",
       "      <td>-170.132000</td>\n",
       "      <td>0</td>\n",
       "      <td>0</td>\n",
       "    </tr>\n",
       "    <tr>\n",
       "      <th>1</th>\n",
       "      <td>1</td>\n",
       "      <td>316</td>\n",
       "      <td>316</td>\n",
       "      <td>66.0</td>\n",
       "      <td>13.444300</td>\n",
       "      <td>144.793700</td>\n",
       "      <td>0</td>\n",
       "      <td>0</td>\n",
       "    </tr>\n",
       "    <tr>\n",
       "      <th>2</th>\n",
       "      <td>2</td>\n",
       "      <td>580</td>\n",
       "      <td>580</td>\n",
       "      <td>69.0</td>\n",
       "      <td>15.097900</td>\n",
       "      <td>145.673900</td>\n",
       "      <td>0</td>\n",
       "      <td>0</td>\n",
       "    </tr>\n",
       "    <tr>\n",
       "      <th>3</th>\n",
       "      <td>3</td>\n",
       "      <td>63072001</td>\n",
       "      <td>630</td>\n",
       "      <td>72001.0</td>\n",
       "      <td>18.180117</td>\n",
       "      <td>-66.754367</td>\n",
       "      <td>0</td>\n",
       "      <td>0</td>\n",
       "    </tr>\n",
       "    <tr>\n",
       "      <th>4</th>\n",
       "      <td>4</td>\n",
       "      <td>63072003</td>\n",
       "      <td>630</td>\n",
       "      <td>72003.0</td>\n",
       "      <td>18.360255</td>\n",
       "      <td>-67.175131</td>\n",
       "      <td>0</td>\n",
       "      <td>0</td>\n",
       "    </tr>\n",
       "    <tr>\n",
       "      <th>5</th>\n",
       "      <td>5</td>\n",
       "      <td>63072005</td>\n",
       "      <td>630</td>\n",
       "      <td>72005.0</td>\n",
       "      <td>18.459681</td>\n",
       "      <td>-67.120815</td>\n",
       "      <td>0</td>\n",
       "      <td>0</td>\n",
       "    </tr>\n",
       "    <tr>\n",
       "      <th>6</th>\n",
       "      <td>6</td>\n",
       "      <td>63072007</td>\n",
       "      <td>630</td>\n",
       "      <td>72007.0</td>\n",
       "      <td>18.251619</td>\n",
       "      <td>-66.126806</td>\n",
       "      <td>0</td>\n",
       "      <td>0</td>\n",
       "    </tr>\n",
       "    <tr>\n",
       "      <th>7</th>\n",
       "      <td>7</td>\n",
       "      <td>63072009</td>\n",
       "      <td>630</td>\n",
       "      <td>72009.0</td>\n",
       "      <td>18.131361</td>\n",
       "      <td>-66.264131</td>\n",
       "      <td>0</td>\n",
       "      <td>0</td>\n",
       "    </tr>\n",
       "    <tr>\n",
       "      <th>8</th>\n",
       "      <td>8</td>\n",
       "      <td>63072011</td>\n",
       "      <td>630</td>\n",
       "      <td>72011.0</td>\n",
       "      <td>18.287985</td>\n",
       "      <td>-67.120611</td>\n",
       "      <td>0</td>\n",
       "      <td>0</td>\n",
       "    </tr>\n",
       "    <tr>\n",
       "      <th>9</th>\n",
       "      <td>9</td>\n",
       "      <td>63072013</td>\n",
       "      <td>630</td>\n",
       "      <td>72013.0</td>\n",
       "      <td>18.406631</td>\n",
       "      <td>-66.675077</td>\n",
       "      <td>0</td>\n",
       "      <td>0</td>\n",
       "    </tr>\n",
       "  </tbody>\n",
       "</table>\n",
       "</div>"
      ],
      "text/plain": [
       "   Unnamed: 0       UID  code3     FIPS        Lat       Long_  Confirmed  \\\n",
       "0           0        16     16     60.0 -14.271000 -170.132000          0   \n",
       "1           1       316    316     66.0  13.444300  144.793700          0   \n",
       "2           2       580    580     69.0  15.097900  145.673900          0   \n",
       "3           3  63072001    630  72001.0  18.180117  -66.754367          0   \n",
       "4           4  63072003    630  72003.0  18.360255  -67.175131          0   \n",
       "5           5  63072005    630  72005.0  18.459681  -67.120815          0   \n",
       "6           6  63072007    630  72007.0  18.251619  -66.126806          0   \n",
       "7           7  63072009    630  72009.0  18.131361  -66.264131          0   \n",
       "8           8  63072011    630  72011.0  18.287985  -67.120611          0   \n",
       "9           9  63072013    630  72013.0  18.406631  -66.675077          0   \n",
       "\n",
       "   Deaths  \n",
       "0       0  \n",
       "1       0  \n",
       "2       0  \n",
       "3       0  \n",
       "4       0  \n",
       "5       0  \n",
       "6       0  \n",
       "7       0  \n",
       "8       0  \n",
       "9       0  "
      ]
     },
     "execution_count": 75,
     "metadata": {},
     "output_type": "execute_result"
    }
   ],
   "source": [
    "numerics = [ 'int64', 'float64']\n",
    "angka = dataset.select_dtypes(include=numerics).copy()\n",
    "angka.head(10)"
   ]
  },
  {
   "cell_type": "markdown",
   "id": "18d403bc-8263-4e8f-b474-f53b678e9c54",
   "metadata": {},
   "source": [
    "# MENYIMPAN DATASET DENGAN ATRIBUTRE BERTYPE ANGKA KEDALAM FILE CSV"
   ]
  },
  {
   "cell_type": "code",
   "execution_count": 76,
   "id": "67d122fc-a5ba-4b5c-8db4-d7c4772fe9a5",
   "metadata": {},
   "outputs": [],
   "source": [
    "angka.to_csv('usa_county_wise_Angka.csv')"
   ]
  },
  {
   "cell_type": "code",
   "execution_count": null,
   "id": "ade13f65-bd21-48e1-8585-7ccfb4881520",
   "metadata": {},
   "outputs": [],
   "source": []
  },
  {
   "cell_type": "code",
   "execution_count": null,
   "id": "6421b630-0ab0-4125-b4bb-d4a92e618781",
   "metadata": {},
   "outputs": [],
   "source": []
  }
 ],
 "metadata": {
  "kernelspec": {
   "display_name": "Python 3 (ipykernel)",
   "language": "python",
   "name": "python3"
  },
  "language_info": {
   "codemirror_mode": {
    "name": "ipython",
    "version": 3
   },
   "file_extension": ".py",
   "mimetype": "text/x-python",
   "name": "python",
   "nbconvert_exporter": "python",
   "pygments_lexer": "ipython3",
   "version": "3.10.7"
  }
 },
 "nbformat": 4,
 "nbformat_minor": 5
}
